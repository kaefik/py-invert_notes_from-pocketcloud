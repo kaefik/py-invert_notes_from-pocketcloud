{
 "cells": [
  {
   "cell_type": "markdown",
   "id": "bf3ee010-971f-45a2-91cc-198564a692fa",
   "metadata": {
    "tags": []
   },
   "source": [
    "при выгрузки заметок из PocketCloud по книге, заметки выгружаются так что \n",
    "последние сделанные заметки находятся сверху, а первые снизу. Нужно сделать чтобы было наоборот\n"
   ]
  },
  {
   "cell_type": "code",
   "execution_count": 11,
   "id": "d03112e2-00f9-4202-8b62-5102335e5d2c",
   "metadata": {
    "tags": []
   },
   "outputs": [],
   "source": [
    "from bs4 import BeautifulSoup\n"
   ]
  },
  {
   "cell_type": "code",
   "execution_count": 12,
   "id": "705915ca-8f40-4c90-95a8-f61630ecb4f0",
   "metadata": {
    "tags": []
   },
   "outputs": [],
   "source": [
    "filename= \"Путь джедая.html\"\n",
    "\n",
    "with open(filename, \"r\") as f:\n",
    "    page_html = f.read()\n",
    "    \n",
    "# print(page_html)\n",
    "\n",
    "soup = BeautifulSoup(page_html, \"html.parser\")\n"
   ]
  },
  {
   "cell_type": "code",
   "execution_count": 13,
   "id": "368cb819-74d6-47ec-b3d8-57a050a7db74",
   "metadata": {
    "tags": []
   },
   "outputs": [
    {
     "name": "stdout",
     "output_type": "stream",
     "text": [
      "Путь джедая\n"
     ]
    }
   ],
   "source": [
    "\n",
    "title_book = soup.select_one(\"title\")\n",
    "\n",
    "print(title_book.text)"
   ]
  },
  {
   "cell_type": "code",
   "execution_count": 14,
   "id": "c67ee47f-4355-435d-a14d-2bdc5f9e3f2b",
   "metadata": {
    "tags": []
   },
   "outputs": [
    {
     "name": "stdout",
     "output_type": "stream",
     "text": [
      "<div class=\"bookmark bm-color-cian\" id=\"C04F2DD6-19E6-5DE0-A2EB-81DCB87749DF\">\n",
      "<p class=\"bm-page\">218</p>\n",
      "<div class=\"bm-text\">\n",
      "<p>Практика: пофантазировать над комбо-целями</p>\n",
      "</div>\n",
      "</div>\n",
      "----------------\n",
      "\n",
      "<div class=\"bookmark bm-color-cian\" id=\"E12F9C23-45DE-5657-ACF9-D645329AD5A0\">\n",
      "<p class=\"bm-page\">219</p>\n",
      "<div class=\"bm-text\">\n",
      "<p>как только вы начинаете думать в терминах времени, вы уже проиграли. Вы же помните, что время — далеко не всегда ограничивающий нас ресурс</p>\n",
      "</div>\n",
      "</div>\n",
      "----------------\n",
      "\n",
      "<div class=\"bookmark bm-color-cian\" id=\"9367BD6F-4801-5B55-8BE2-6987DE81DF6F\">\n",
      "<p class=\"bm-page\">219</p>\n",
      "<div class=\"bm-text\">\n",
      "<p>давайте попробуем перейти на следующий уровень сложности и комбинировать сразу по три сферы. Что бы такого сделать (легко и непринужденно), чтобы это одновременно улучшило «Духовность», «Любовь. Семья. Дети» и, скажем, «Здоровье и спорт»? А «Здоровье и спорт», «Карьера и бизнес» и «Личностный рост</p>\n",
      "</div>\n",
      "</div>\n",
      "----------------\n",
      "\n",
      "<div class=\"bookmark bm-color-cian\" id=\"4699FF19-ED92-5A79-96F5-FF1473430265\">\n",
      "<p class=\"bm-page\">220</p>\n",
      "<div class=\"bm-text\">\n",
      "<p>Выдающийся успех и крутые результаты — следствие не упора155 в работе над множеством проектов одновременно, а хитрого и ловкого комбо, в результате которого много проектов свернулось в один, на котором можно сфокусироваться</p>\n",
      "</div>\n",
      "</div>\n",
      "----------------\n",
      "\n"
     ]
    }
   ],
   "source": [
    "all_bookmarks = soup.select(\"div.bookmark\")\n",
    "\n",
    "# print(all_bookmarks)\n",
    "\n",
    "\n",
    "with open(\"result.html\", \"w\") as f:\n",
    "    f.write(title_book.text)\n",
    "    for bookmark in reversed(all_bookmarks):    \n",
    "            f.write(bookmark.prettify())\n",
    "            f.write(\"\\n\")\n",
    "            print(bookmark)\n",
    "            \n",
    "            print(\"----------------\\n\")\n",
    "    \n",
    "    \n",
    "    \n",
    "    "
   ]
  },
  {
   "cell_type": "code",
   "execution_count": null,
   "id": "8d407482-c6bf-43d4-8c1b-cc88f6f2f6f3",
   "metadata": {},
   "outputs": [],
   "source": []
  },
  {
   "cell_type": "code",
   "execution_count": null,
   "id": "cba8aff5-4fc5-4e0e-99d5-5005f98f7d26",
   "metadata": {},
   "outputs": [],
   "source": []
  }
 ],
 "metadata": {
  "kernelspec": {
   "display_name": "Python 3 (ipykernel)",
   "language": "python",
   "name": "python3"
  },
  "language_info": {
   "codemirror_mode": {
    "name": "ipython",
    "version": 3
   },
   "file_extension": ".py",
   "mimetype": "text/x-python",
   "name": "python",
   "nbconvert_exporter": "python",
   "pygments_lexer": "ipython3",
   "version": "3.10.7"
  }
 },
 "nbformat": 4,
 "nbformat_minor": 5
}
